{
  "nbformat": 4,
  "nbformat_minor": 0,
  "metadata": {
    "colab": {
      "name": "EM_Simulations",
      "provenance": []
    },
    "kernelspec": {
      "name": "python3",
      "display_name": "Python 3"
    }
  },
  "cells": [
    {
      "cell_type": "code",
      "metadata": {
        "id": "7EsebcV9ipa9",
        "colab": {
          "base_uri": "https://localhost:8080/",
          "height": 122
        },
        "outputId": "91cfb566-d36b-44a0-bc4a-14412ce8e375"
      },
      "source": [
        "import numpy as np\n",
        "import cv2\n",
        "import random\n",
        "import random\n",
        "import copy\n",
        "from scipy.spatial.transform import Rotation as R\n",
        "from skimage import transform\n",
        "\n",
        "\n",
        "\n",
        "import matplotlib.pyplot as plt\n",
        "%matplotlib inline\n",
        "from google.colab import drive\n",
        "drive.mount('/content/drive')"
      ],
      "execution_count": null,
      "outputs": [
        {
          "output_type": "stream",
          "text": [
            "Go to this URL in a browser: https://accounts.google.com/o/oauth2/auth?client_id=947318989803-6bn6qk8qdgf4n4g3pfee6491hc0brc4i.apps.googleusercontent.com&redirect_uri=urn%3aietf%3awg%3aoauth%3a2.0%3aoob&response_type=code&scope=email%20https%3a%2f%2fwww.googleapis.com%2fauth%2fdocs.test%20https%3a%2f%2fwww.googleapis.com%2fauth%2fdrive%20https%3a%2f%2fwww.googleapis.com%2fauth%2fdrive.photos.readonly%20https%3a%2f%2fwww.googleapis.com%2fauth%2fpeopleapi.readonly\n",
            "\n",
            "Enter your authorization code:\n",
            "··········\n",
            "Mounted at /content/drive\n"
          ],
          "name": "stdout"
        }
      ]
    },
    {
      "cell_type": "code",
      "metadata": {
        "id": "wN7Tp6-CxivE",
        "colab": {
          "base_uri": "https://localhost:8080/",
          "height": 51
        },
        "outputId": "5f8ed1b4-fcee-42b0-eaaa-b52ed586d74d"
      },
      "source": [
        "pip install scikit-surgery"
      ],
      "execution_count": null,
      "outputs": [
        {
          "output_type": "stream",
          "text": [
            "\u001b[31mERROR: Could not find a version that satisfies the requirement sksurgerycore (from versions: none)\u001b[0m\n",
            "\u001b[31mERROR: No matching distribution found for sksurgerycore\u001b[0m\n"
          ],
          "name": "stdout"
        }
      ]
    },
    {
      "cell_type": "code",
      "metadata": {
        "id": "xTUrAS4Qiuxc"
      },
      "source": [
        "#Borrow some functions from Example CW\n",
        "\n",
        "def extract_rigid_body_parameters(matrix):\n",
        "    t = matrix[0:3, 3]\n",
        "    r = matrix[0:3, 0:3]\n",
        "    r = R.from_matrix(r)\n",
        "    euler = r.as_euler('zyx', degrees=True)\n",
        "    return [euler[0], euler[1], euler[2], t[0], t[1], t[2]]\n",
        "\n",
        "def rigid_body_parameters_to_matrix(params):\n",
        "    matrix = np.eye(4)\n",
        "    r = (R.from_euler('zyx', [params[0], params[1], params[2]], degrees=True)).as_matrix()\n",
        "    matrix[0:3, 0:3] = r\n",
        "    matrix[0][3] = params[3]\n",
        "    matrix[1][3] = params[4]\n",
        "    matrix[2][3] = params[5]\n",
        "    return matrix\n",
        "\n",
        "def Needle_to_CT(point,point_to_detector, detector_to_CT):\n",
        "  return detector_to_CT @ point_to_detector @ point"
      ],
      "execution_count": null,
      "outputs": []
    },
    {
      "cell_type": "code",
      "metadata": {
        "id": "O_Dl-v1HjDSp"
      },
      "source": [
        "def distance_from_line(p_1, p_2, p_3):\n",
        "    \"\"\"\n",
        "    Computes distance of a point p_3, from a line defined by p_1 and p_2.\n",
        "\n",
        "    See `here <https://en.wikipedia.org/wiki/Distance_from_a_point_to_a_line>`_.\n",
        "\n",
        "    :return: euclidean distance\n",
        "    \"\"\"\n",
        "    # I want notation same as wikipedia page, so disabling warning.\n",
        "    # pylint: disable=invalid-name\n",
        "    n = p_2 - p_1\n",
        "    n = n / np.linalg.norm(n)\n",
        "    a_minus_p = p_1 - p_3\n",
        "    vector_to_line = a_minus_p - (np.dot(a_minus_p, n) * n)\n",
        "    distance = np.linalg.norm(vector_to_line)\n",
        "    return distance\n",
        "\n",
        "\n",
        "def compute_tre_from_fle(fiducials, mean_fle_squared, target_point):\n",
        "    \"\"\"\n",
        "    Computes an estimation of TRE from FLE and a list of fiducial locations.\n",
        "\n",
        "    See:\n",
        "    `Fitzpatrick (1998), equation 46 <http://dx.doi.org/10.1109/42.736021>`_.\n",
        "\n",
        "    :param fiducials: Nx3 ndarray of fiducial points\n",
        "    :param mean_fle_squared: expected (mean) FLE squared\n",
        "    :param target_point: a point for which to compute TRE.\n",
        "    :return: mean TRE squared\n",
        "    \"\"\"\n",
        "    # pylint: disable=literal-comparison\n",
        "    if not isinstance(fiducials, np.ndarray):\n",
        "        raise TypeError(\"fiducials is not a numpy array'\")\n",
        "    if not fiducials.shape[1] == 3:\n",
        "        raise ValueError(\"fiducials should have 3 columns\")\n",
        "    if fiducials.shape[0] < 3:\n",
        "        raise ValueError(\"fiducials should have at least 3 rows\")\n",
        "    if not isinstance(target_point, np.ndarray):\n",
        "        raise TypeError(\"target_point is not a numpy array'\")\n",
        "    if not target_point.shape[1] == 3:\n",
        "        raise ValueError(\"target_point should have 3 columns\")\n",
        "    if not target_point.shape[0] == 1:\n",
        "        raise ValueError(\"target_point should have 1 row\")\n",
        "\n",
        "    number_of_fiducials = fiducials.shape[0]\n",
        "    centroid = np.mean(fiducials, axis=0)\n",
        "    covariance = np.cov(fiducials.T)\n",
        "    assert covariance.shape[0] == 3\n",
        "    assert covariance.shape[1] == 3\n",
        "    _, eigen_vectors_matrix = np.linalg.eig(covariance)\n",
        "\n",
        "    f_array = np.zeros(3)\n",
        "    for axis_index in range(3):\n",
        "        sum_f_k_squared = 0\n",
        "        for fiducial_index in range(fiducials.shape[0]):\n",
        "            f_k = distance_from_line(centroid,\n",
        "                                        eigen_vectors_matrix[axis_index],\n",
        "                                        fiducials[fiducial_index])\n",
        "            sum_f_k_squared = sum_f_k_squared + f_k * f_k\n",
        "        f_k_rms = np.sqrt(sum_f_k_squared / number_of_fiducials)\n",
        "        f_array[axis_index] = f_k_rms\n",
        "\n",
        "    inner_sum = 0\n",
        "    for axis_index in range(3):\n",
        "        d_k = distance_from_line(centroid,\n",
        "                                    eigen_vectors_matrix[axis_index],\n",
        "                                    target_point)\n",
        "        inner_sum = inner_sum + (d_k * d_k / f_array[axis_index])\n",
        "\n",
        "    mean_tre_squared = (mean_fle_squared / fiducials.shape[0]) * \\\n",
        "                       (1 + (1./3.) * inner_sum)\n",
        "    return mean_tre_squared\n",
        "\n",
        "def compute_fre(fixed, moving, rotation, translation):\n",
        "    \"\"\"\n",
        "    Computes the Fiducial Registration Error, equal\n",
        "    to the root mean squared error between corresponding fiducials.\n",
        "\n",
        "    :param fixed: point set, N x 3 ndarray\n",
        "    :param moving: point set, N x 3 ndarray of corresponding points\n",
        "    :param rotation: 3 x 3 ndarray\n",
        "    :param translation: 3 x 1 ndarray\n",
        "    :returns: Fiducial Registration Error (FRE)\n",
        "    \"\"\"\n",
        "    # pylint: disable=assignment-from-no-return\n",
        "\n",
        "    validate_procrustes_inputs(fixed, moving)\n",
        "\n",
        "    transformed_moving = np.matmul(rotation, moving.transpose()) + translation\n",
        "    squared_error_elementwise = np.square(fixed\n",
        "                                          - transformed_moving.transpose())\n",
        "    square_distance_error = np.sum(squared_error_elementwise, 1)\n",
        "    sum_squared_error = np.sum(square_distance_error, 0)\n",
        "    mean_squared_error = sum_squared_error / fixed.shape[0]\n",
        "    fre = np.sqrt(mean_squared_error)\n",
        "    return fre\n",
        "\n",
        "def validate_procrustes_inputs(fixed, moving):\n",
        "  \"\"\"\n",
        "  Validates the fixed and moving set of points\n",
        "\n",
        "  1. fixed and moving must be numpy array\n",
        "  2. fixed and moving should have 3 columns\n",
        "  3. fixed and moving should have at least 3 rows\n",
        "  4. fixed and moving should have the same number of rows\n",
        "\n",
        "  :param fixed: point set, N x 3 ndarray\n",
        "  :param moving: point set, N x 3 ndarray of corresponding points\n",
        "  :returns: nothing\n",
        "  :raises: TypeError, ValueError\n",
        "  \"\"\"\n",
        "  if not isinstance(fixed, np.ndarray):\n",
        "      raise TypeError(\"fixed is not a numpy array'\")\n",
        "\n",
        "  if not isinstance(moving, np.ndarray):\n",
        "      raise TypeError(\"moving is not a numpy array\")\n",
        "\n",
        "  if not fixed.shape[1] == 3:  # pylint: disable=literal-comparison\n",
        "      raise ValueError(\"fixed should have 3 columns\")\n",
        "\n",
        "  if not moving.shape[1] == 3:  # pylint: disable=literal-comparison\n",
        "      raise ValueError(\"moving should have 3 columns\")\n",
        "\n",
        "  if fixed.shape[0] < 3:\n",
        "      raise ValueError(\"fixed should have at least 3 points (rows)\")\n",
        "\n",
        "  if moving.shape[0] < 3:\n",
        "      raise ValueError(\"moving should have at least 3 points (rows)\")\n",
        "\n",
        "  if not fixed.shape[0] == moving.shape[0]:\n",
        "      raise ValueError(\"fixed and moving should have \"|\n",
        "                      + \"the same number of points (rows)\")\n",
        "        \n",
        "\n",
        "\n",
        "import numpy as np\n",
        "\n",
        "\n",
        "# pylint: disable=invalid-name, line-too-long\n",
        "\n",
        "\n",
        "def orthogonal_procrustes(fixed, moving):\n",
        "    \"\"\"\n",
        "    Implements point based registration via the Orthogonal Procrustes method.\n",
        "\n",
        "    Based on Arun's method:\n",
        "\n",
        "      Least-Squares Fitting of two, 3-D Point Sets, Arun, 1987,\n",
        "      `10.1109/TPAMI.1987.4767965 <http://dx.doi.org/10.1109/TPAMI.1987.4767965>`_.\n",
        "\n",
        "    Also see `this <http://eecs.vanderbilt.edu/people/mikefitzpatrick/papers/2009_Medim_Fitzpatrick_TRE_FRE_uncorrelated_as_published.pdf>`_\n",
        "    and `this <http://tango.andrew.cmu.edu/~gustavor/42431-intro-bioimaging/readings/ch8.pdf>`_.\n",
        "\n",
        "    :param fixed: point set, N x 3 ndarray\n",
        "    :param moving: point set, N x 3 ndarray of corresponding points\n",
        "    :returns: 3x3 rotation ndarray, 3x1 translation ndarray, FRE\n",
        "    :raises: ValueError\n",
        "    \"\"\"\n",
        "\n",
        "    validate_procrustes_inputs(fixed, moving)\n",
        "\n",
        "    # This is what we are calculating\n",
        "    R = np.eye(3)\n",
        "    T = np.zeros((3, 1))\n",
        "\n",
        "    # Arun equation 4\n",
        "    p = np.ndarray.mean(moving, 0)\n",
        "\n",
        "    # Arun equation 6\n",
        "    p_prime = np.ndarray.mean(fixed, 0)\n",
        "\n",
        "    # Arun equation 7\n",
        "    q = moving - p\n",
        "\n",
        "    # Arun equation 8\n",
        "    q_prime = fixed - p_prime\n",
        "\n",
        "    # Arun equation 11\n",
        "    H = np.matmul(q.transpose(), q_prime)\n",
        "\n",
        "    # Arun equation 12\n",
        "    # Note: numpy factors h = u * np.diag(s) * v\n",
        "    svd = np.linalg.svd(H)\n",
        "\n",
        "    # Replace Arun Equation 13 with Fitzpatrick, chapter 8, page 470,\n",
        "    # to avoid reflections, see issue #19\n",
        "    X = _fitzpatricks_X(svd)\n",
        "\n",
        "    # Arun step 5, after equation 13.\n",
        "    det_X = np.linalg.det(X)\n",
        "\n",
        "    if det_X < 0 and np.all(np.flip(np.isclose(svd[1], np.zeros((3, 1))))):\n",
        "\n",
        "        # Don't yet know how to generate test data.\n",
        "        # If you hit this line, please report it, and save your data.\n",
        "        raise ValueError(\"Registration fails as determinant < 0\"\n",
        "                         \" and no singular values are close enough to zero\")\n",
        "\n",
        "    if det_X < 0 and np.any(np.isclose(svd[1], np.zeros((3, 1)))):\n",
        "        # Implement 2a in section VI in Arun paper.\n",
        "        v_prime = svd[2].transpose()\n",
        "        v_prime[0][2] *= -1\n",
        "        v_prime[1][2] *= -1\n",
        "        v_prime[2][2] *= -1\n",
        "        X = np.matmul(v_prime, svd[0].transpose())\n",
        "\n",
        "\n",
        "    # Compute output\n",
        "    R = X\n",
        "    tmp = p_prime.transpose() - np.matmul(R, p.transpose())\n",
        "    T[0][0] = tmp[0]\n",
        "    T[1][0] = tmp[1]\n",
        "    T[2][0] = tmp[2]\n",
        "    fre = compute_fre(fixed, moving, R, T)\n",
        "\n",
        "    return R, T, fre\n",
        "\n",
        "\n",
        "def _fitzpatricks_X(svd):\n",
        "    \"\"\"This is from Fitzpatrick, chapter 8, page 470.\n",
        "       it's used in preference to Arun's equation 13,\n",
        "       X = np.matmul(svd[2].transpose(), svd[0].transpose())\n",
        "       to avoid reflections.\n",
        "    \"\"\"\n",
        "    VU = np.matmul(svd[2].transpose(), svd[0])\n",
        "    detVU = np.linalg.det(VU)\n",
        "\n",
        "    diag = np.eye(3, 3)\n",
        "    diag[2][2] = detVU\n",
        "\n",
        "    X = np.matmul(svd[2].transpose(), np.matmul(diag, svd[0].transpose()))\n",
        "    return X\n",
        "  \n",
        "def construct_rigid_transformation(rot_m, trans_v):\n",
        "    \"\"\"Construct a 4x4 rigid-body transformation from a 3x3 rotation matrix and\n",
        "    a 3x1 vector as translation\n",
        "\n",
        "    :param rot_m: 3x3 rotation matrix, numpy array\n",
        "    :param trans_v: 3x1 vector as translation, numpy array\n",
        "    :returns: rigid_transformation -- 4x4 rigid transformation matrix,\n",
        "    numpy array\n",
        "    \"\"\"\n",
        "    rigid_transformation = np.identity(4)\n",
        "\n",
        "    for i in range(3):\n",
        "        for j in range(3):\n",
        "            rigid_transformation[i][j] = rot_m[i][j]\n",
        "\n",
        "    rigid_transformation[0][3] = trans_v[0]\n",
        "    rigid_transformation[1][3] = trans_v[1]\n",
        "    rigid_transformation[2][3] = trans_v[2]\n",
        "\n",
        "    return rigid_transformation"
      ],
      "execution_count": null,
      "outputs": []
    },
    {
      "cell_type": "code",
      "metadata": {
        "id": "KdP7VcwZi6Ep"
      },
      "source": [
        "#Load in some transformation matricies\n",
        "detector_to_CT = np.loadtxt('/content/drive/My Drive/SimulationData/Detector_to_CT.txt')\n",
        "point_to_detector = np.loadtxt('/content/drive/My Drive/SimulationData/needle_detector.txt')\n",
        "\n",
        "#Get rigid body params\n",
        "detector2CT = extract_rigid_body_parameters(detector_to_CT)\n",
        "point2detector = extract_rigid_body_parameters(point_to_detector)\n",
        "\n"
      ],
      "execution_count": null,
      "outputs": []
    },
    {
      "cell_type": "code",
      "metadata": {
        "id": "rMdMfwoKlg5j"
      },
      "source": [
        "def define_gold_standard(x,y,z):\n",
        "  point = np.zeros((4,1)) \n",
        "  \n",
        "  point[0][0] = x\n",
        "  point[1][0] = y\n",
        "  point[2][0] = z\n",
        "  point[3][0] = 1\n",
        "\n",
        "  point_in_CT = Needle_to_CT(point, point_to_detector, detector_to_CT)\n",
        "  return point, point_in_CT\n",
        " \n",
        "\n",
        "  \n",
        "  "
      ],
      "execution_count": null,
      "outputs": []
    },
    {
      "cell_type": "code",
      "metadata": {
        "id": "NbErLwVOnX_k"
      },
      "source": [
        "#Set a gold standard position\n",
        "needle, gold_standard_point_in_CT = define_gold_standard(5,15,-10)"
      ],
      "execution_count": null,
      "outputs": []
    },
    {
      "cell_type": "markdown",
      "metadata": {
        "id": "c9kDhER1FNFF"
      },
      "source": [
        "##Experiment 1 - Effect of Noise on Translation Transforms\n",
        "Applying random gaussian noise to simulate random effects such as field distortions which may occur during the procedure"
      ]
    },
    {
      "cell_type": "code",
      "metadata": {
        "id": "pComjpo5oR4q",
        "colab": {
          "base_uri": "https://localhost:8080/",
          "height": 279
        },
        "outputId": "864a3ad5-08ee-4f13-8e0c-f4535cfca752"
      },
      "source": [
        "number_samples = 1000\n",
        "x_values = []\n",
        "y_values = []\n",
        "\n",
        "for sigma_counter in range(0,25,1):\n",
        "  sigma = sigma_counter /5\n",
        "  rms = 0\n",
        "  for i in range(number_samples):\n",
        "    temp_point2detector = copy.deepcopy(point2detector)\n",
        "    temp_point2detector[3] = temp_point2detector[3] + random.normalvariate(0,sigma)\n",
        "    temp_point2detector[4] = temp_point2detector[4] + random.normalvariate(0,sigma)\n",
        "    temp_point2detector[5] = temp_point2detector[5] + random.normalvariate(0,sigma)\n",
        "    temp_point2detector_mat = rigid_body_parameters_to_matrix(temp_point2detector)\n",
        "\n",
        "    translated_world_point = detector_to_CT @ temp_point2detector_mat @ needle\n",
        "\n",
        "    diff = np.linalg.norm(gold_standard_point_in_CT - translated_world_point)\n",
        "    diff = diff* diff\n",
        "    rms = rms + diff\n",
        "  rms = rms / number_samples\n",
        "  rms = np.sqrt(rms)\n",
        "\n",
        "  x_values.append(sigma)\n",
        "  y_values.append(rms)\n",
        "\n",
        "plt.plot(x_values, y_values, 'r', label='RMS (mm)')\n",
        "plt.legend(loc='upper left')\n",
        "plt.xlabel('sigma (mm)')\n",
        "plt.ylabel('error (mm)')\n",
        "plt.show()\n"
      ],
      "execution_count": null,
      "outputs": [
        {
          "output_type": "display_data",
          "data": {
            "image/png": "[encoded data removed]",
            "text/plain": [
              "<Figure size 432x288 with 1 Axes>"
            ]
          },
          "metadata": {
            "tags": [],
            "needs_background": "light"
          }
        }
      ]
    },
    {
      "cell_type": "code",
      "metadata": {
        "id": "qkzAjtuEud9r",
        "colab": {
          "base_uri": "https://localhost:8080/",
          "height": 279
        },
        "outputId": "b8739e7f-feb2-4fdf-924a-7bf44eaa0dce"
      },
      "source": [
        "number_samples = 1000\n",
        "x_values = []\n",
        "y_values = []\n",
        "\n",
        "for sigma_counter in range(0,25,1):\n",
        "  sigma = sigma_counter /5\n",
        "  rms = 0\n",
        "  for i in range(number_samples):\n",
        "    temp_detector2CT = copy.deepcopy(detector2CT)\n",
        "    temp_detector2CT[3] = temp_detector2CT[3] + random.normalvariate(0,sigma)\n",
        "    temp_detector2CT[4] = temp_detector2CT[4] + random.normalvariate(0,sigma)\n",
        "    temp_detector2CT[5] = temp_detector2CT[5] + random.normalvariate(0,sigma)\n",
        "    temp_detector2CT_mat = rigid_body_parameters_to_matrix(temp_detector2CT)\n",
        "\n",
        "    translated_world_point = temp_detector2CT_mat @ point_to_detector @ needle\n",
        "\n",
        "    diff = np.linalg.norm(gold_standard_point_in_CT - translated_world_point)\n",
        "    diff = diff* diff\n",
        "    rms = rms + diff\n",
        "  rms = rms / number_samples\n",
        "  rms = np.sqrt(rms)\n",
        "\n",
        "  x_values.append(sigma)\n",
        "  y_values.append(rms)\n",
        "\n",
        "plt.plot(x_values, y_values, 'r', label='RMS (mm)')\n",
        "plt.legend(loc='upper left')\n",
        "plt.xlabel('sigma (mm)')\n",
        "plt.ylabel('error (mm)')\n",
        "plt.show()"
      ],
      "execution_count": null,
      "outputs": [
        {
          "output_type": "display_data",
          "data": {
            "image/png": "[encoded data removed]",
            "text/plain": [
              "<Figure size 432x288 with 1 Axes>"
            ]
          },
          "metadata": {
            "tags": [],
            "needs_background": "light"
          }
        }
      ]
    },
    {
      "cell_type": "code",
      "metadata": {
        "id": "nfAz71Jg3aRP"
      },
      "source": [
        ""
      ],
      "execution_count": null,
      "outputs": []
    },
    {
      "cell_type": "code",
      "metadata": {
        "id": "uNVyQ2SewjFo",
        "colab": {
          "base_uri": "https://localhost:8080/",
          "height": 283
        },
        "outputId": "d47ee680-3b2f-4660-b67b-99528475bdf7"
      },
      "source": [
        "number_samples = 1000\n",
        "x_values = []\n",
        "y_values = []\n",
        "\n",
        "for sigma_counter in range(0,25,1):\n",
        "  sigma = sigma_counter /5\n",
        "  rms = 0\n",
        "  for i in range(number_samples):\n",
        "    temp_detector2CT = copy.deepcopy(detector2CT)\n",
        "    temp_detector2CT[3] = temp_detector2CT[3] + random.normalvariate(0,sigma)\n",
        "    temp_detector2CT[4] = temp_detector2CT[4] + random.normalvariate(0,sigma)\n",
        "    temp_detector2CT[5] = temp_detector2CT[5] + random.normalvariate(0,sigma)\n",
        "    temp_detector2CT_mat = rigid_body_parameters_to_matrix(temp_detector2CT)\n",
        "\n",
        "    temp_point2detector = copy.deepcopy(point2detector)\n",
        "    temp_point2detector[3] = temp_point2detector[3] + random.normalvariate(0,sigma)\n",
        "    temp_point2detector[4] = temp_point2detector[4] + random.normalvariate(0,sigma)\n",
        "    temp_point2detector[5] = temp_point2detector[5] + random.normalvariate(0,sigma)\n",
        "    temp_point2detector_mat = rigid_body_parameters_to_matrix(temp_point2detector)\n",
        "\n",
        "    translated_world_point = temp_detector2CT_mat @ temp_point2detector_mat @ needle\n",
        "\n",
        "    diff = np.linalg.norm(gold_standard_point_in_CT - translated_world_point)\n",
        "    diff = diff* diff\n",
        "    rms = rms + diff\n",
        "  rms = rms / number_samples\n",
        "  rms = np.sqrt(rms)\n",
        "\n",
        "  x_values.append(sigma)\n",
        "  y_values.append(rms)\n",
        "\n",
        "plt.plot(x_values, y_values, 'r', label='RMS (mm)')\n",
        "plt.legend(loc='upper left')\n",
        "plt.xlabel('sigma (mm)')\n",
        "plt.ylabel('error (mm)')\n",
        "plt.show()"
      ],
      "execution_count": null,
      "outputs": [
        {
          "output_type": "display_data",
          "data": {
            "image/png": "[encoded data removed]",
            "text/plain": [
              "<Figure size 432x288 with 1 Axes>"
            ]
          },
          "metadata": {
            "tags": [],
            "needs_background": "light"
          }
        }
      ]
    },
    {
      "cell_type": "markdown",
      "metadata": {
        "id": "bsoYy7FUFxmw"
      },
      "source": [
        "##Experiment 2 - Does Translational noise or Rotational Noise increase Error?\n",
        "Add random gaussian noise to the x coordinate and rotation around the x-axis"
      ]
    },
    {
      "cell_type": "code",
      "metadata": {
        "id": "mBCLDqiopHLW",
        "colab": {
          "base_uri": "https://localhost:8080/",
          "height": 279
        },
        "outputId": "ef6ff788-56fe-4b49-be68-8f4ffc8983f1"
      },
      "source": [
        "number_samples = 1000\n",
        "x_values = []\n",
        "y_values = []\n",
        "\n",
        "for sigma_counter in range(0,25,1):\n",
        "  sigma = sigma_counter /5\n",
        "  rms = 0\n",
        "  for i in range(number_samples):\n",
        "    temp_point2detector = copy.deepcopy(point2detector)\n",
        "    temp_point2detector[0] = temp_point2detector[0] + random.normalvariate(0,sigma)\n",
        "    temp_point2detector[2] = temp_point2detector[2] + random.normalvariate(0,sigma)\n",
        "    temp_point2detector_mat = rigid_body_parameters_to_matrix(temp_point2detector)\n",
        "\n",
        "    translated_world_point = detector_to_CT @ temp_point2detector_mat @ needle\n",
        "    #print(translated_world_point)\n",
        "\n",
        "    diff = np.linalg.norm(gold_standard_point_in_CT - translated_world_point)\n",
        "    diff = diff* diff\n",
        "    rms = rms + diff\n",
        "  rms = rms / number_samples\n",
        "  rms = np.sqrt(rms)\n",
        "\n",
        "  x_values.append(sigma)\n",
        "  y_values.append(rms)\n",
        "\n",
        "plt.plot(x_values, y_values, 'r', label='RMS (mm)')\n",
        "plt.legend(loc='upper left')\n",
        "plt.xlabel('sigma (mm)')\n",
        "plt.ylabel('error (mm)')\n",
        "plt.show()"
      ],
      "execution_count": null,
      "outputs": [
        {
          "output_type": "display_data",
          "data": {
            "image/png": "[encoded data removed]",
            "text/plain": [
              "<Figure size 432x288 with 1 Axes>"
            ]
          },
          "metadata": {
            "tags": [],
            "needs_background": "light"
          }
        }
      ]
    },
    {
      "cell_type": "markdown",
      "metadata": {
        "id": "nq2tnmW6PFKo"
      },
      "source": [
        "1-D translations V 1dof rotation\n"
      ]
    },
    {
      "cell_type": "code",
      "metadata": {
        "id": "UYdPLN_nPMex",
        "colab": {
          "base_uri": "https://localhost:8080/",
          "height": 280
        },
        "outputId": "636023a0-a314-4325-9393-c02bf581d0b1"
      },
      "source": [
        "number_samples = 1000\n",
        "x_values = []\n",
        "trans_values = []\n",
        "\n",
        "for sigma_counter in range(0,25,1):\n",
        "  sigma = sigma_counter /5\n",
        "  rms = 0\n",
        "  for i in range(number_samples):\n",
        "    temp_point2detector = copy.deepcopy(point2detector)\n",
        "    temp_point2detector[3] = temp_point2detector[3] + random.normalvariate(0,sigma)\n",
        "    # temp_point2detector[4] = temp_point2detector[4] + random.normalvariate(0,sigma)\n",
        "    # temp_point2detector[5] = temp_point2detector[5] + random.normalvariate(0,sigma)\n",
        "    temp_point2detector_mat = rigid_body_parameters_to_matrix(temp_point2detector)\n",
        "\n",
        "    translated_world_point = detector_to_CT @ temp_point2detector_mat @ needle\n",
        "\n",
        "    diff = np.linalg.norm(gold_standard_point_in_CT - translated_world_point)\n",
        "    diff = diff* diff\n",
        "    rms = rms + diff\n",
        "  rms = rms / number_samples\n",
        "  rms = np.sqrt(rms)\n",
        "\n",
        "  x_values.append(sigma)\n",
        "  trans_values.append(rms)\n",
        "\n",
        "rot_values = []\n",
        "x2_values = []\n",
        "\n",
        "for sigma_counter in range(0,25,1):\n",
        "  sigma = sigma_counter /5\n",
        "  rms = 0\n",
        "  for i in range(number_samples):\n",
        "    temp_point2detector = copy.deepcopy(point2detector)\n",
        "    temp_point2detector[0] = temp_point2detector[0] + random.normalvariate(0,sigma)\n",
        "    # temp_point2detector[1] = temp_point2detector[1] + random.normalvariate(0,sigma)\n",
        "    # temp_point2detector[2] = temp_point2detector[2] + random.normalvariate(0,sigma)\n",
        "    temp_point2detector_mat = rigid_body_parameters_to_matrix(temp_point2detector)\n",
        "\n",
        "    translated_world_point = detector_to_CT @ temp_point2detector_mat @ needle\n",
        "    #print(translated_world_point)\n",
        "\n",
        "    diff = np.linalg.norm(gold_standard_point_in_CT - translated_world_point)\n",
        "    diff = diff* diff\n",
        "    rms = rms + diff\n",
        "  rms = rms / number_samples\n",
        "  rms = np.sqrt(rms)\n",
        "\n",
        "  x2_values.append(sigma)\n",
        "  rot_values.append(rms)\n",
        "\n",
        "plt.plot(x_values, trans_values, 'r', label='Translational RMS (mm)')\n",
        "plt.plot(x2_values, rot_values, 'o', label = 'Rotational RMS')\n",
        "plt.legend(loc='upper left')\n",
        "plt.xlabel('sigma (mm)')\n",
        "plt.ylabel('error (mm)')\n",
        "plt.show()"
      ],
      "execution_count": null,
      "outputs": [
        {
          "output_type": "display_data",
          "data": {
            "image/png": "[encoded data removed]",
            "text/plain": [
              "<Figure size 432x288 with 1 Axes>"
            ]
          },
          "metadata": {
            "tags": [],
            "needs_background": "light"
          }
        }
      ]
    },
    {
      "cell_type": "markdown",
      "metadata": {
        "id": "brJmE9HQ9YjC"
      },
      "source": [
        "TRE"
      ]
    },
    {
      "cell_type": "markdown",
      "metadata": {
        "id": "97EzIm6vF1Xc"
      },
      "source": [
        "##Experiment 3 - Investigating the impact of position of fiducials on TRE\n",
        "Random points are used as fiducial locations and the TRE calculated in order to determine whether an untrained person could do the setup"
      ]
    },
    {
      "cell_type": "code",
      "metadata": {
        "id": "ilapy4Kj9Zn8"
      },
      "source": [
        "fiducials_loc = np.ones((7,3))"
      ],
      "execution_count": null,
      "outputs": []
    },
    {
      "cell_type": "markdown",
      "metadata": {
        "id": "UFZmfuQrSojC"
      },
      "source": [
        ""
      ]
    },
    {
      "cell_type": "code",
      "metadata": {
        "id": "BnT1ZLwISGfG"
      },
      "source": [
        "fiducials_loc[0][0] = 150\n",
        "fiducials_loc[0][1] = 10\n",
        "fiducials_loc[0][2] = 100\n",
        "fiducials_loc[1][0] = -150\n",
        "fiducials_loc[1][1] = 10\n",
        "fiducials_loc[1][2] = -10\n",
        "fiducials_loc[2][0] = 36\n",
        "fiducials_loc[2][1] = 150\n",
        "fiducials_loc[2][2] = 45\n",
        "fiducials_loc[3][0] = 60\n",
        "fiducials_loc[3][1] = 5\n",
        "fiducials_loc[3][2] = 100\n",
        "fiducials_loc[4][0] = 150\n",
        "fiducials_loc[4][1] = 0\n",
        "fiducials_loc[4][2] = 0\n",
        "fiducials_loc[5][0] = 25\n",
        "fiducials_loc[5][1] = 0\n",
        "fiducials_loc[5][2] = 100\n",
        "fiducials_loc[6][0] = -50\n",
        "fiducials_loc[6][1] = 15\n",
        "fiducials_loc[6][2] = 50\n"
      ],
      "execution_count": null,
      "outputs": []
    },
    {
      "cell_type": "code",
      "metadata": {
        "id": "18ZDdFpcSKO-"
      },
      "source": [
        "target = np.ones((1,3))\n",
        "target[0][0] = 35\n",
        "target[0][1] = -15\n",
        "target[0][2] = 45"
      ],
      "execution_count": null,
      "outputs": []
    },
    {
      "cell_type": "code",
      "metadata": {
        "id": "DQ-fxA7VTkwF",
        "colab": {
          "base_uri": "https://localhost:8080/",
          "height": 34
        },
        "outputId": "a03cbf84-3a1c-4c30-c816-04c2fa764cd4"
      },
      "source": [
        "compute_tre_from_fle(fiducials_loc,1.6**2, target)"
      ],
      "execution_count": null,
      "outputs": [
        {
          "output_type": "execute_result",
          "data": {
            "text/plain": [
              "5.459300368075579"
            ]
          },
          "metadata": {
            "tags": []
          },
          "execution_count": 49
        }
      ]
    },
    {
      "cell_type": "code",
      "metadata": {
        "id": "kmLxj9jeT9vt"
      },
      "source": [
        "fiducials_with_needle = np.zeros((8,3))\n",
        "fiducials_with_needle[:7] = fiducials_loc\n",
        "fiducials_with_needle[7][0] = 40\n",
        "fiducials_with_needle[7][1] = -25\n",
        "fiducials_with_needle[7][2] = 0 \n"
      ],
      "execution_count": null,
      "outputs": []
    },
    {
      "cell_type": "code",
      "metadata": {
        "id": "H8FueEp4UWmr",
        "colab": {
          "base_uri": "https://localhost:8080/",
          "height": 34
        },
        "outputId": "f170a154-7e59-4a75-ec2c-e96273b277d0"
      },
      "source": [
        "compute_tre_from_fle(fiducials_with_needle, 1.6**2, target)"
      ],
      "execution_count": null,
      "outputs": [
        {
          "output_type": "execute_result",
          "data": {
            "text/plain": [
              "4.295788454876894"
            ]
          },
          "metadata": {
            "tags": []
          },
          "execution_count": 68
        }
      ]
    },
    {
      "cell_type": "code",
      "metadata": {
        "id": "wbrUin02Us1t",
        "colab": {
          "base_uri": "https://localhost:8080/",
          "height": 279
        },
        "outputId": "1984e075-77ca-417d-e6b1-57c5fddfcf60"
      },
      "source": [
        "TRE = []\n",
        "Distance = []\n",
        "for x in range(100):\n",
        "  fiducial_locations = np.zeros((7,3))\n",
        "  for i in range(6):\n",
        "    fiducial_locations[i][0] = random.randint(-230,230)\n",
        "    fiducial_locations[i][1] = random.randint(0,30)\n",
        "    fiducial_locations[i][2] = random.randint(0,300)\n",
        "  tre = compute_tre_from_fle(fiducial_locations, 1.6**2, target)\n",
        "  x_mean = np.mean(fiducial_locations[:][0])\n",
        "  y_mean = np.mean(fiducial_locations[:][1])\n",
        "  z_mean = np.mean(fiducial_locations[:][2])\n",
        "  distance = (x_mean**2 + y_mean**2 + z_mean**2)**0.5\n",
        "  TRE.append(tre)\n",
        "  Distance.append(distance)\n",
        "\n",
        "plt.scatter(Distance,TRE)\n",
        "plt.xlabel('Average Euclidian Distance Between Points mm')\n",
        "plt.ylabel('TRE')\n",
        "plt.show()\n",
        "\n"
      ],
      "execution_count": null,
      "outputs": [
        {
          "output_type": "display_data",
          "data": {
            "image/png": "[encoded data removed]",
            "text/plain": [
              "<Figure size 432x288 with 1 Axes>"
            ]
          },
          "metadata": {
            "tags": [],
            "needs_background": "light"
          }
        }
      ]
    },
    {
      "cell_type": "markdown",
      "metadata": {
        "id": "b_Q9tXx2GJU7"
      },
      "source": [
        "#Experiment 4\n",
        "Adding increasing numbers of randomly placed needles to be used as internal fiducial locations"
      ]
    },
    {
      "cell_type": "code",
      "metadata": {
        "id": "Lp44ldHgVm-V",
        "colab": {
          "base_uri": "https://localhost:8080/",
          "height": 282
        },
        "outputId": "8c2bc07f-f59b-4867-ca99-5281847475af"
      },
      "source": [
        "sample = 10000\n",
        "TRE = []\n",
        "Num_of_needle = []\n",
        "for x in range(6):\n",
        "  registration_er = 0\n",
        "  for k in range(sample):\n",
        "    fiducial_locations = np.zeros((7 + x ,3))\n",
        "    for i in range(len((fiducial_locations))):\n",
        "      fiducial_locations[i][0] = random.randint(-230,230)\n",
        "      fiducial_locations[i][1] = random.randint(0,30)\n",
        "      fiducial_locations[i][2] = random.randint(0,500)\n",
        "      if i > 6:\n",
        "        fiducial_locations[i][0] = random.randint(-50,50)\n",
        "        fiducial_locations[i][1] = random.randint(-20,0)\n",
        "        fiducial_locations[i][2] = random.randint(0,30)\n",
        "\n",
        "    y = compute_tre_from_fle(fiducial_locations, 1.6**2, target)\n",
        "    # print(y)\n",
        "    registration_er += y/sample\n",
        "  # print(registration_er)\n",
        "  tre = registration_er\n",
        "  TRE.append(tre)\n",
        "  Num_of_needle.append(x)\n",
        "\n",
        "plt.plot(Num_of_needle,TRE)\n",
        "plt.xlabel('Number of internal Needles')\n",
        "plt.ylabel('TRE')\n",
        "plt.show()"
      ],
      "execution_count": null,
      "outputs": [
        {
          "output_type": "display_data",
          "data": {
            "image/png": "[encoded data removed]",
            "text/plain": [
              "<Figure size 432x288 with 1 Axes>"
            ]
          },
          "metadata": {
            "tags": [],
            "needs_background": "light"
          }
        }
      ]
    },
    {
      "cell_type": "markdown",
      "metadata": {
        "id": "o14L_QfDGQi3"
      },
      "source": [
        "###This went wrong"
      ]
    },
    {
      "cell_type": "code",
      "metadata": {
        "id": "d6XLl8PQhCxH",
        "colab": {
          "base_uri": "https://localhost:8080/",
          "height": 279
        },
        "outputId": "9dc393bc-8699-4319-bd5e-4855437d5b65"
      },
      "source": [
        "x_values = []\n",
        "y_values = []\n",
        "number_samples = 1000\n",
        "\n",
        "for sigma_counter in range(1,25,1):\n",
        "  \n",
        "  sigma = 0.25\n",
        "  rms = 0\n",
        " \n",
        "  temp_target = copy.deepcopy(target)\n",
        "  new_dim = [1]\n",
        "  temp_target = np.append(temp_target, new_dim)\n",
        "  temp_target[0] = temp_target[0] + random.gauss(0, sigma)\n",
        "  temp_target[1] = temp_target[1] + random.gauss(0, sigma)\n",
        "  temp_target[2] = temp_target[2] + random.gauss(0, sigma)\n",
        "      \n",
        "  for j in range(number_samples):\n",
        "    temp_fiducials_loc = copy.deepcopy(fiducials_loc)\n",
        "    for i in range(len(fiducials_loc)):\n",
        "      temp_fiducials_loc[i][0] = temp_fiducials_loc[i][0] + random.gauss(0, sigma)\n",
        "      temp_fiducials_loc[i][1] = temp_fiducials_loc[i][1] + random.gauss(0, sigma)\n",
        "      temp_fiducials_loc[i][2] = temp_fiducials_loc[i][2] + random.gauss(0, sigma)\n",
        "\n",
        "\n",
        "    rot_mat, trans_mat, FRE = orthogonal_procrustes(temp_fiducials_loc, fiducials_loc)\n",
        "\n",
        "    matrix = construct_rigid_transformation(rot_mat, trans_mat)\n",
        "\n",
        "    new_target = matrix @ temp_target.reshape(4,1)\n",
        "\n",
        "    diff = np.linalg.norm(new_target - temp_target)\n",
        "\n",
        "    diff = diff * diff\n",
        "    diff = np.sqrt(diff)\n",
        "    rms = rms + diff\n",
        "  rms = rms /number_samples\n",
        "  rms = np.sqrt(rms)\n",
        "\n",
        "  x_values.append(sigma_counter)\n",
        "  y_values.append(rms)\n",
        "\n",
        "plt.plot(x_values, y_values, 'r', label='RMS (mm)')\n",
        "plt.legend(loc='upper left')\n",
        "plt.xlabel('Run')\n",
        "plt.ylabel('RMS')\n",
        "plt.show()\n",
        "\n",
        "\n",
        "\n"
      ],
      "execution_count": null,
      "outputs": [
        {
          "output_type": "display_data",
          "data": {
            "image/png": "[encoded data removed]",
            "text/plain": [
              "<Figure size 432x288 with 1 Axes>"
            ]
          },
          "metadata": {
            "tags": [],
            "needs_background": "light"
          }
        }
      ]
    },
    {
      "cell_type": "code",
      "metadata": {
        "id": "bUklIrZUyyKi"
      },
      "source": [
        "rms_array = np.array(y_values)"
      ],
      "execution_count": null,
      "outputs": []
    },
    {
      "cell_type": "code",
      "metadata": {
        "id": "WsAH4Yv5rwUk",
        "colab": {
          "base_uri": "https://localhost:8080/",
          "height": 34
        },
        "outputId": "2fb9ec0e-0eed-4631-acd0-c3a4ec8b68a3"
      },
      "source": [
        "(rms_array.mean()) * (3**0.5)"
      ],
      "execution_count": null,
      "outputs": [
        {
          "output_type": "execute_result",
          "data": {
            "text/plain": [
              "20.350718231281814"
            ]
          },
          "metadata": {
            "tags": []
          },
          "execution_count": 138
        }
      ]
    },
    {
      "cell_type": "code",
      "metadata": {
        "id": "YYOAIaEUwEy0"
      },
      "source": [
        ""
      ],
      "execution_count": null,
      "outputs": []
    },
    {
      "cell_type": "code",
      "metadata": {
        "id": "odQ2woGJyAgK"
      },
      "source": [
        "rot_mat, trans_mat, FRE = orthogonal_procrustes(fiducials_loc,temp_fiducials_loc )"
      ],
      "execution_count": null,
      "outputs": []
    },
    {
      "cell_type": "code",
      "metadata": {
        "id": "wtJGmPHbzcJp"
      },
      "source": [
        "matrix = construct_rigid_transformation(rot_mat, trans_mat)"
      ],
      "execution_count": null,
      "outputs": []
    },
    {
      "cell_type": "code",
      "metadata": {
        "id": "Sf1UQG9e6i1t"
      },
      "source": [
        ""
      ],
      "execution_count": null,
      "outputs": []
    }
  ]
}