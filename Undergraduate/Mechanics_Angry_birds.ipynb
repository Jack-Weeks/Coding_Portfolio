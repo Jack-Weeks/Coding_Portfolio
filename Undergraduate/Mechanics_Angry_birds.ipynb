{
 "cells": [
  {
   "cell_type": "markdown",
   "metadata": {},
   "source": [
    "## Angry Birds - Final Assignment\n",
    "Student number 1504668"
   ]
  },
  {
   "cell_type": "markdown",
   "metadata": {},
   "source": [
    "In this task we will be attempting to recreate the popular mobile game \"angry birds\" by launching a projectile into an object and, using relavent physics calculating whether the applied torque of the collision is enough to cause the object to topple.\n",
    "\n",
    "To do this we will be using these equations of motion $$ x=x_0 + v_0tcos(\\theta)$$ for the Horizontal displacement $$ y=y_0+v_0tsin(\\theta) - \\frac {gt^2}{2}$$ for the vertical displacement\n",
    "\n",
    "Hence the momentum of the projectile can be expressed as \n",
    "$$ p_x=mv_ocos(\\theta)$$ Horizontally and $$ p_y = mv_0sin(\\theta) - mgt$$ Vertically\n",
    "\n",
    "On collision the force exerted can be shown as $$ F_{applied} = \\frac{\\Delta p}{\\Delta t} $$\n",
    "\n",
    "The applied Torque is then $$\\tau_{applied} = F_{applied} \\times d_a $$\n",
    "where $d_a$ is the vector from the point of collision to the point of rotation\n",
    "\n",
    "if the applied Torque is greater than the restoring torque of the block $$ \\tau_{restoring} = -mg\\frac{w}{2} $$\n",
    "where w is the width of the block\n",
    "\n",
    "Then the block will topple."
   ]
  },
  {
   "cell_type": "markdown",
   "metadata": {},
   "source": [
    "I will use the above outlined theory in order to calculate whether the player of the the game wins. We will assume that 100% of the momentum is transferred into the block in a timestep of 0.01 seconds.\n",
    "We also assume that the position of the block is fixed and will only rotate in one direction"
   ]
  },
  {
   "cell_type": "code",
   "execution_count": 1,
   "metadata": {
    "collapsed": false
   },
   "outputs": [
    {
     "data": {
      "application/javascript": [
       "require.undef(\"nbextensions/vpython_libraries/jquery-ui.custom.min\");"
      ],
      "text/plain": [
       "<IPython.core.display.Javascript object>"
      ]
     },
     "metadata": {},
     "output_type": "display_data"
    },
    {
     "data": {
      "application/javascript": [
       "require.undef(\"nbextensions/vpython_libraries/glow.2.1.min\");"
      ],
      "text/plain": [
       "<IPython.core.display.Javascript object>"
      ]
     },
     "metadata": {},
     "output_type": "display_data"
    },
    {
     "data": {
      "application/javascript": [
       "require.undef(\"nbextensions/vpython_libraries/glowcomm\");"
      ],
      "text/plain": [
       "<IPython.core.display.Javascript object>"
      ]
     },
     "metadata": {},
     "output_type": "display_data"
    },
    {
     "data": {
      "application/javascript": [
       "require([\"nbextensions/vpython_libraries/jquery-ui.custom.min\"], function(){console.log(\"JQUERY LOADED\");})"
      ],
      "text/plain": [
       "<IPython.core.display.Javascript object>"
      ]
     },
     "metadata": {},
     "output_type": "display_data"
    },
    {
     "data": {
      "application/javascript": [
       "require([\"nbextensions/vpython_libraries/glow.2.1.min\"], function(){console.log(\"GLOW LOADED\");})"
      ],
      "text/plain": [
       "<IPython.core.display.Javascript object>"
      ]
     },
     "metadata": {},
     "output_type": "display_data"
    },
    {
     "data": {
      "application/javascript": [
       "require([\"nbextensions/vpython_libraries/glowcomm\"], function(){console.log(\"GLOWCOMM LOADED\");})"
      ],
      "text/plain": [
       "<IPython.core.display.Javascript object>"
      ]
     },
     "metadata": {},
     "output_type": "display_data"
    },
    {
     "data": {
      "text/html": [
       "<div id=\"glowscript\" class=\"glowscript\"></div>"
      ],
      "text/plain": [
       "<IPython.core.display.HTML object>"
      ]
     },
     "metadata": {},
     "output_type": "display_data"
    },
    {
     "data": {
      "application/javascript": [
       "window.__context = { glowscript_container: $(\"#glowscript\").removeAttr(\"id\")}"
      ],
      "text/plain": [
       "<IPython.core.display.Javascript object>"
      ]
     },
     "metadata": {},
     "output_type": "display_data"
    }
   ],
   "source": [
    "import numpy as np #import numpy as np\n",
    "from vpython import sphere, color, rate, canvas, vector, curve, label, box, cross, mag, random, textures #import visual python"
   ]
  },
  {
   "cell_type": "code",
   "execution_count": 2,
   "metadata": {
    "collapsed": true
   },
   "outputs": [],
   "source": [
    "Game=True                                                                            #Sets initial requirement for game to run\n"
   ]
  },
  {
   "cell_type": "code",
   "execution_count": 3,
   "metadata": {
    "collapsed": false,
    "scrolled": false
   },
   "outputs": [
    {
     "data": {
      "text/html": [
       "<div id=\"glowscript\" class=\"glowscript\"></div>"
      ],
      "text/plain": [
       "<IPython.core.display.HTML object>"
      ]
     },
     "metadata": {},
     "output_type": "display_data"
    },
    {
     "data": {
      "application/javascript": [
       "window.__context = { glowscript_container: $(\"#glowscript\").removeAttr(\"id\")}"
      ],
      "text/plain": [
       "<IPython.core.display.Javascript object>"
      ]
     },
     "metadata": {},
     "output_type": "display_data"
    },
    {
     "name": "stdout",
     "output_type": "stream",
     "text": [
      "Input the initial angle in degrees: 15\n",
      "Input the initial speed in metres/second: 25\n",
      "Congratulations! You Toppled the block, Well done\n",
      "Your impact height was 1.177m\n",
      "The magnitude of momentum on impact was 2.453N\n",
      "Resulting in an applied torque of 317.475Nm, Overcoming the restoring Torque of 245.25Nm\n",
      "Play again (y/n)n\n",
      "Thanks!\n"
     ]
    }
   ],
   "source": [
    "while Game == True:\n",
    "    scene = canvas(width=640, height=480, center=vector(8,0,0), range=8)                    #Setting Scene\n",
    "    Ground = box(pos=vector(8,-0.125,0), length=16, height=0.15, width=5,texture=textures.metal) #Changed the ground to a box to explore\n",
    "                                                                                            # Textures\n",
    "\n",
    "    ############ Target parameters ##############\n",
    "    targetpos = (random()*10)+5 #Assinging a random number between 5-15 for the x-position of the box\n",
    "    target= box(pos=vector(targetpos,1,0),height = 2, width = 0.5, depth = 0.5, color = color.white) #Making the target\n",
    "    targetmass = 100                                                                        #Target Mass\n",
    "    ########### Projectile parameters ###########                                                                        \n",
    "    m=0.1                                                                                   #Projectile/Bird mass\n",
    "    r=0.05                                                                                  #Projectile/Bird Radius\n",
    "    ########## Global parameters ################\n",
    "    dT=0.001                                                                               #Timestep for animation\n",
    "    dt=0.01                                                                                #Time for the force to act in collision\n",
    "    g=9.81                                                                                 #Acceleration due to  Gravity\n",
    "    hit_tolerance = r+0.25                                                                 #We assigned a hit tolerance a single variable\n",
    "                                                                                           #Designed to calculate whether the bird hit the \n",
    "                                                                                           #Object, (surface of bird+ half width of object)\n",
    "    \n",
    "    \n",
    "    win = False                                                                            # Set the initial condition to begin the game\n",
    "    while win == False:\n",
    "        x0=0                                                                               #Setting the initial starting x position\n",
    "        y0=0                                                                               #Setting the initial starting y position\n",
    "        y=y0                                                                               #Resetting the y postion after the loop has ran\n",
    "        x=x0                                                                               #Resetting the x position after the loop has ran\n",
    "        t = 0                                                                              #t=0 start of animation.\n",
    "        projectile = sphere(pos = vector(x0,y0,0), radius = 0.3, make_trail=True, trail_type=\"points\",interval = 1.0) #Form the projectile\n",
    "                                                                                          #in vPython,\n",
    "            \n",
    "        ############ Asking the user for their inputs and whether they're suitable #####################\n",
    "        ################## Angle ###############################\n",
    "        iangle = float(input(\"Input the initial angle in degrees: \"))                    \n",
    "        while (iangle<0) or (iangle >90):\n",
    "            print('Please Input a launch angle between 0 and 90')\n",
    "            iangle = float(input(\"Input the initial angle in degrees: \"))\n",
    "        launchA = np.radians(iangle)                                                        #Convert input to radians\n",
    "        \n",
    "        ################# Velocity ############################\n",
    "        launchV = float(input(\"Input the initial speed in metres/second: \"))\n",
    "        if launchV < 0:\n",
    "            print(\"Please input a launch velocity greater than 0\")\n",
    "            launchV = float(input(\"Input the initial speed in metres/second: \"))\n",
    "       \n",
    "    \n",
    "       ############## Scene camera change ####################\n",
    "        scene.camera.follow(projectile)                                                     #Makes the \"action camera\" follow the projectile\n",
    "        scene.camera.axis = vector (-8,-2,-4)                                                # Adjusting the viewing axis \n",
    "        \n",
    "        ################### labels ###########################\n",
    "        L = label(pos=vector(3,-5,0))                                                       #Initial label position to give x,y,t updates\n",
    "        Launch_label = label(pos=vector(4,-2,0))                                            # Initial Conditions label\n",
    "        Launch_label.text = (\"Launch Angle = {0:0.1f} Degrees Launch Velocity = {1:0.1f}\".format(iangle,launchV))\n",
    "        \n",
    "        \n",
    "        \n",
    "        while (y >= y0) & (x<target.pos.x) & (y<50) & (x>-1) :                             #Setting conditions for animation to run\n",
    "            x = x0 + launchV*t*np.cos(launchA)                                             #Calculating Horizontal position wrt Time\n",
    "            y = y0 + launchV*t*np.sin(launchA) - (0.5*g*t**2)                              #Calculating Vertical Position wrt Time\n",
    "            projectile.pos= vector (x,y,0)                                                 #Updating the projectile with the above calculations\n",
    "            t=t+dT                                                                         #Increasing the t by the timestep dT\n",
    "            L.text=\"x={0:0.3f}m y={1:0.3f}m t={2:0.3f}s\".format(x,y,t)                     #Label giving realtime x,y pos wrt Time\n",
    "            rate(60)                                                                       #Rate for animation to run\n",
    "            \n",
    "            \n",
    "           \n",
    "            \n",
    "        #################### IF HIT ########################\n",
    "            if (x>=target.pos.x-hit_tolerance) & (y<=2):  \n",
    "        ############### Physics Calculation ################\n",
    "                restoringT = abs(-targetmass*g*0.25)                                      #calculating the resotring torque                        \n",
    "                xmomentum = m*launchV*np.cos(launchA)                                     #Calculating the resulting x momentum\n",
    "                ymomentum = m*launchV*np.sin(launchA) - (m*g*t)                           #Calculating the resutling y momentum\n",
    "                Tmomentum = mag(vector(xmomentum,ymomentum,0))                            #Total momementum is magnitude of the resultant vector\n",
    "                da = vector (x+0.05,y+0.05,0)-vector(targetpos+0.25,0,0)                  #Vector bewtween point of collision and \n",
    "                                                                                          #Rotation point\n",
    "                appliedT = ((vector(xmomentum,ymomentum,0))/dt).cross(da)                 #Calcualting the Applied Torque\n",
    "                MagT = mag(appliedT)\n",
    "                                                      \n",
    "                \n",
    "                \n",
    "                \n",
    "                \n",
    "                \n",
    "                if restoringT< abs(MagT):                                                 #Checking if the applied torque is greater than restoring\n",
    "        ################### Attempt at rotation #############\n",
    "        ## This is my attempt at rotation which works, however due to the replay feature does not occur until after \n",
    "        ## The user input is no. I do not know how to fix this. ## \n",
    "                    target.rotate(angle=(-pi/2),axis=vector(0,0,1), origin = vector((targetpos+0.25),0,0)) #Rotate through -90 degrees\n",
    "                    target.color = color.green                                            #Makes the target object colour green on success\n",
    "                    Win_label = label(pos=vector(8,5,0))\n",
    "                    Win_label.text = \"You Win!\"                                           #Changes win label text to YOU WIN\n",
    "                    \n",
    "        ################# Printing results from above ############\n",
    "                    print(\"Congratulations! You Toppled the block, Well done\")            \n",
    "                    print(\"Your impact height was {0:0.3f}m\".format(y))                    #Impact height\n",
    "                    print(\"The magnitude of momentum on impact was {0:0.3f}N\".format(Tmomentum)) #Magnitude of momemntum\n",
    "                    print(\"Resulting in an applied torque of {0:0.3f}Nm, Overcoming the restoring Torque of {1:0.2f}Nm\".format(MagT,restoringT)) \n",
    "                    ## Resultant torque and restoring torque ##\n",
    "                    answer = input(\"Play again (y/n)\")                                   # Asking the user to play again\n",
    "                    if answer == 'n':                                                    # No\n",
    "                        print(\"Thanks for playing\")\n",
    "                        Game=False   \n",
    "                        win = True                                                       #Fulfills loop req\n",
    "                        break                                                            #breaks out of loop\n",
    "                        \n",
    "                    else:                                                                #Yes or otherwise\n",
    "                        game=True\n",
    "                        win = True                                                       #Resets game\n",
    "                        break\n",
    "                        \n",
    "                    \n",
    "            \n",
    "        \n",
    "        \n",
    "                else:                                                                    #Not enough applied torque\n",
    "                    print(\"You were unsucessful in toppling the block, please try again\")\n",
    "                    Win_label.visible = True\n",
    "                    Win_label.text=\"Try Again!\"                                          #Changes winlabel text\n",
    "                    print(\"Your impact height was {0:0.3f}m\".format(y))                  #Impact height\n",
    "                    print(\"The magnitude of momentum on impact was {0:0.3f}N\".format(Tmomentum)) #Magnitude of momemntum\n",
    "                    print(\"Resulting in an applied torque of {0:0.3f}Nm, Not enough to overcome the restoring Torque of {1:0.2f}Nm\".format(MagT,restoringT))\n",
    "                    win = False                                                         #Requirement no fulfilled\n",
    "                    scene.camera.axis = vector (0,0,-8)                                 #Attempt to reset camera, zoom our required\n",
    "                    break\n",
    "                   \n",
    "                \n",
    "            \n",
    "    ##################### Missing the target ###################\n",
    "        else:                                                          \n",
    "            print(\"You Missed the Target, Try again!\")\n",
    "            Win_label = label(pos=vector(8,5,0))                                     #Adds the winlabel\n",
    "            Win_label.text=\"Try Again!\"                                                 #Changes text to Try again\n",
    "            win = False                                                                 #Requirement not fulfilled\n",
    "            scene.camera.axis = vector(0,0,-8)                                          #Resets the axis, zoom required\n",
    "            \n",
    "            \n",
    "            \n",
    "            \n",
    "    \n",
    "        \n",
    "                        \n",
    "            \n",
    "        \n",
    "    \n",
    "\n",
    "        \n",
    "\n",
    "\n"
   ]
  },
  {
   "cell_type": "markdown",
   "metadata": {},
   "source": [
    "My code follows a structure such that the game initialises > forms a canvas > sets the variables > begins animation - the while loop, to run the script while the projectile is in the air > checks if hit - making use of an if statement, such that the position of the projectile comes sufficently close to the block > if hit whether enough torque is applied - via another if loop applying the physics outlined in the introduction> if successful says you won > asks to play again > relaunches the canvas via resetting the over arching while loop for the game to run.\n",
    "\n",
    "All other outcomes are considered losing and will simply replay the animation stage with new input variables"
   ]
  },
  {
   "cell_type": "markdown",
   "metadata": {
    "collapsed": true
   },
   "source": [
    "## Review of using Python to Model the Projectile Physics\n",
    "\n",
    "Overall I feel VPython is more than capable of modelling the physics that occurs in a collision between two, or more objects. However is would be skeptical to trust the numerical outcomes, particularly for our attempt as we used a number of assumptions to simplify the process such as assuming 100% of the momementum is transferred into the object, which in reality rarely occurs, and the object intuitively should bounce off somewhat. Our chosen timestep can incur errors particularly at high velocities - although this can be fixed by adjusting the timestep, it is favourable to have an infintesimally small timestep in order to correctly identify the point of collision.\n",
    "\n",
    "In terms of the \"game\" we used an object with much larger radius than that of the object used in our calculations, which reduces clarity for the player and as a result of this we assume that the masses are entirely uniform, and that all the mass of both objects is concentrated in their centres. A way of improving this is by calculating their moment of inertia. Building on this idea it could be possible to work out the angular velocity $\\alpha = \\frac{d^2 \\theta }{dt^2}$ and hence have the block rotate proportional to the force applied, rather than an arbitraty rotation through 90 Degrees, this is related to the total torque $\\tau_{applied} - \\tau_{restoring}$ by $\\tau = I \\alpha $ where $I$ is the moment of inertia\n",
    "\n",
    "To impliment a more accurate model in Python I believe that we should ask the user if they would like air resistance, therefore introducing extra decelleration in both directions, and reducing the acceleration due to gravity. This would aid to make the games more realistic, however we would have to assume that the resistive force was constant such that the equations of motion did not break.Furthermore if we could compute the angle of interaction between the object and the projectile at the point of collision we could more accurately calculate the components of momentum, and hence the force exerted on the block which can then be used to calculate acceleration as outlined in the second paragraph. Furthermore developing on the idea that it is rare for all the momentum to be transferred into the block, the block could be made of different materials, each with it's own coefficient of restitution, and hence would transfer variable amounts of force to the block, this can be implimented fairly easily as was done in session 8.\n",
    "\n",
    "As an added extra, it would be possible to \"replay\" the collision with a much lower rate, and perhaps timestep allowing for a zoomed in scene to be created, allowing for a more precise model of the collision and the subsequent energy transfers. This can be done by adding another looping structure with the same initial conditions as the ones input by the user.\n",
    "\n"
   ]
  },
  {
   "cell_type": "code",
   "execution_count": null,
   "metadata": {
    "collapsed": true
   },
   "outputs": [],
   "source": []
  }
 ],
 "metadata": {
  "anaconda-cloud": {},
  "kernelspec": {
   "display_name": "VPython",
   "language": "python",
   "name": "vpython"
  },
  "language_info": {
   "codemirror_mode": {
    "name": "ipython",
    "version": 3
   },
   "file_extension": ".py",
   "mimetype": "text/x-python",
   "name": "python",
   "nbconvert_exporter": "python",
   "pygments_lexer": "ipython3",
   "version": "3.5.2"
  }
 },
 "nbformat": 4,
 "nbformat_minor": 1
}
